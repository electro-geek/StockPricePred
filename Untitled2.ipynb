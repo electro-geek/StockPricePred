{
 "cells": [
  {
   "cell_type": "code",
   "execution_count": 14,
   "id": "c0cbddd9",
   "metadata": {},
   "outputs": [],
   "source": [
    "import pandas as pd\n",
    "import seaborn as sns\n",
    "import matplotlib.pyplot as plt\n",
    "import numpy as np\n",
    "%matplotlib inline"
   ]
  },
  {
   "cell_type": "code",
   "execution_count": 62,
   "id": "a94084c4",
   "metadata": {},
   "outputs": [],
   "source": [
    "import os"
   ]
  },
  {
   "cell_type": "code",
   "execution_count": 63,
   "id": "e2fca151",
   "metadata": {},
   "outputs": [],
   "source": [
    "path = os.getcwd() + \"/individual_stocks_5yr/\" "
   ]
  },
  {
   "cell_type": "code",
   "execution_count": 64,
   "id": "6d417628",
   "metadata": {},
   "outputs": [],
   "source": [
    "dataset = pd.read_csv(path + 'AAPL_data.csv')"
   ]
  },
  {
   "cell_type": "code",
   "execution_count": 65,
   "id": "0fca6ec4",
   "metadata": {},
   "outputs": [
    {
     "data": {
      "text/html": [
       "<div>\n",
       "<style scoped>\n",
       "    .dataframe tbody tr th:only-of-type {\n",
       "        vertical-align: middle;\n",
       "    }\n",
       "\n",
       "    .dataframe tbody tr th {\n",
       "        vertical-align: top;\n",
       "    }\n",
       "\n",
       "    .dataframe thead th {\n",
       "        text-align: right;\n",
       "    }\n",
       "</style>\n",
       "<table border=\"1\" class=\"dataframe\">\n",
       "  <thead>\n",
       "    <tr style=\"text-align: right;\">\n",
       "      <th></th>\n",
       "      <th>date</th>\n",
       "      <th>open</th>\n",
       "      <th>high</th>\n",
       "      <th>low</th>\n",
       "      <th>close</th>\n",
       "      <th>volume</th>\n",
       "      <th>Name</th>\n",
       "    </tr>\n",
       "  </thead>\n",
       "  <tbody>\n",
       "    <tr>\n",
       "      <th>0</th>\n",
       "      <td>2013-02-08</td>\n",
       "      <td>67.7142</td>\n",
       "      <td>68.4014</td>\n",
       "      <td>66.8928</td>\n",
       "      <td>67.8542</td>\n",
       "      <td>158168416</td>\n",
       "      <td>AAPL</td>\n",
       "    </tr>\n",
       "    <tr>\n",
       "      <th>1</th>\n",
       "      <td>2013-02-11</td>\n",
       "      <td>68.0714</td>\n",
       "      <td>69.2771</td>\n",
       "      <td>67.6071</td>\n",
       "      <td>68.5614</td>\n",
       "      <td>129029425</td>\n",
       "      <td>AAPL</td>\n",
       "    </tr>\n",
       "    <tr>\n",
       "      <th>2</th>\n",
       "      <td>2013-02-12</td>\n",
       "      <td>68.5014</td>\n",
       "      <td>68.9114</td>\n",
       "      <td>66.8205</td>\n",
       "      <td>66.8428</td>\n",
       "      <td>151829363</td>\n",
       "      <td>AAPL</td>\n",
       "    </tr>\n",
       "    <tr>\n",
       "      <th>3</th>\n",
       "      <td>2013-02-13</td>\n",
       "      <td>66.7442</td>\n",
       "      <td>67.6628</td>\n",
       "      <td>66.1742</td>\n",
       "      <td>66.7156</td>\n",
       "      <td>118721995</td>\n",
       "      <td>AAPL</td>\n",
       "    </tr>\n",
       "    <tr>\n",
       "      <th>4</th>\n",
       "      <td>2013-02-14</td>\n",
       "      <td>66.3599</td>\n",
       "      <td>67.3771</td>\n",
       "      <td>66.2885</td>\n",
       "      <td>66.6556</td>\n",
       "      <td>88809154</td>\n",
       "      <td>AAPL</td>\n",
       "    </tr>\n",
       "  </tbody>\n",
       "</table>\n",
       "</div>"
      ],
      "text/plain": [
       "         date     open     high      low    close     volume  Name\n",
       "0  2013-02-08  67.7142  68.4014  66.8928  67.8542  158168416  AAPL\n",
       "1  2013-02-11  68.0714  69.2771  67.6071  68.5614  129029425  AAPL\n",
       "2  2013-02-12  68.5014  68.9114  66.8205  66.8428  151829363  AAPL\n",
       "3  2013-02-13  66.7442  67.6628  66.1742  66.7156  118721995  AAPL\n",
       "4  2013-02-14  66.3599  67.3771  66.2885  66.6556   88809154  AAPL"
      ]
     },
     "execution_count": 65,
     "metadata": {},
     "output_type": "execute_result"
    }
   ],
   "source": [
    "dataset.head()"
   ]
  },
  {
   "cell_type": "code",
   "execution_count": 66,
   "id": "107f5c0f",
   "metadata": {},
   "outputs": [
    {
     "data": {
      "text/plain": [
       "date      0\n",
       "open      0\n",
       "high      0\n",
       "low       0\n",
       "close     0\n",
       "volume    0\n",
       "Name      0\n",
       "dtype: int64"
      ]
     },
     "execution_count": 66,
     "metadata": {},
     "output_type": "execute_result"
    }
   ],
   "source": [
    "dataset.isnull().sum()"
   ]
  },
  {
   "cell_type": "code",
   "execution_count": 67,
   "id": "c85d5758",
   "metadata": {},
   "outputs": [],
   "source": [
    "X = dataset.iloc[:, 0:3]\n",
    "X['volume'] = dataset['volume']"
   ]
  },
  {
   "cell_type": "code",
   "execution_count": 68,
   "id": "69cda4bc",
   "metadata": {
    "scrolled": true
   },
   "outputs": [
    {
     "data": {
      "text/html": [
       "<div>\n",
       "<style scoped>\n",
       "    .dataframe tbody tr th:only-of-type {\n",
       "        vertical-align: middle;\n",
       "    }\n",
       "\n",
       "    .dataframe tbody tr th {\n",
       "        vertical-align: top;\n",
       "    }\n",
       "\n",
       "    .dataframe thead th {\n",
       "        text-align: right;\n",
       "    }\n",
       "</style>\n",
       "<table border=\"1\" class=\"dataframe\">\n",
       "  <thead>\n",
       "    <tr style=\"text-align: right;\">\n",
       "      <th></th>\n",
       "      <th>date</th>\n",
       "      <th>open</th>\n",
       "      <th>high</th>\n",
       "      <th>volume</th>\n",
       "    </tr>\n",
       "  </thead>\n",
       "  <tbody>\n",
       "    <tr>\n",
       "      <th>0</th>\n",
       "      <td>2013-02-08</td>\n",
       "      <td>67.7142</td>\n",
       "      <td>68.4014</td>\n",
       "      <td>158168416</td>\n",
       "    </tr>\n",
       "    <tr>\n",
       "      <th>1</th>\n",
       "      <td>2013-02-11</td>\n",
       "      <td>68.0714</td>\n",
       "      <td>69.2771</td>\n",
       "      <td>129029425</td>\n",
       "    </tr>\n",
       "    <tr>\n",
       "      <th>2</th>\n",
       "      <td>2013-02-12</td>\n",
       "      <td>68.5014</td>\n",
       "      <td>68.9114</td>\n",
       "      <td>151829363</td>\n",
       "    </tr>\n",
       "    <tr>\n",
       "      <th>3</th>\n",
       "      <td>2013-02-13</td>\n",
       "      <td>66.7442</td>\n",
       "      <td>67.6628</td>\n",
       "      <td>118721995</td>\n",
       "    </tr>\n",
       "    <tr>\n",
       "      <th>4</th>\n",
       "      <td>2013-02-14</td>\n",
       "      <td>66.3599</td>\n",
       "      <td>67.3771</td>\n",
       "      <td>88809154</td>\n",
       "    </tr>\n",
       "  </tbody>\n",
       "</table>\n",
       "</div>"
      ],
      "text/plain": [
       "         date     open     high     volume\n",
       "0  2013-02-08  67.7142  68.4014  158168416\n",
       "1  2013-02-11  68.0714  69.2771  129029425\n",
       "2  2013-02-12  68.5014  68.9114  151829363\n",
       "3  2013-02-13  66.7442  67.6628  118721995\n",
       "4  2013-02-14  66.3599  67.3771   88809154"
      ]
     },
     "execution_count": 68,
     "metadata": {},
     "output_type": "execute_result"
    }
   ],
   "source": [
    "X.head()"
   ]
  },
  {
   "cell_type": "code",
   "execution_count": 69,
   "id": "36c2bc6f",
   "metadata": {},
   "outputs": [],
   "source": [
    "for i in X['date']:\n",
    "    y = i.split(\"-\")\n",
    "    total = int(y[0]+y[1]+y[2])\n",
    "    X = X.replace(i,total)"
   ]
  },
  {
   "cell_type": "code",
   "execution_count": 70,
   "id": "4e20d06d",
   "metadata": {},
   "outputs": [
    {
     "data": {
      "text/html": [
       "<div>\n",
       "<style scoped>\n",
       "    .dataframe tbody tr th:only-of-type {\n",
       "        vertical-align: middle;\n",
       "    }\n",
       "\n",
       "    .dataframe tbody tr th {\n",
       "        vertical-align: top;\n",
       "    }\n",
       "\n",
       "    .dataframe thead th {\n",
       "        text-align: right;\n",
       "    }\n",
       "</style>\n",
       "<table border=\"1\" class=\"dataframe\">\n",
       "  <thead>\n",
       "    <tr style=\"text-align: right;\">\n",
       "      <th></th>\n",
       "      <th>date</th>\n",
       "      <th>open</th>\n",
       "      <th>high</th>\n",
       "      <th>volume</th>\n",
       "    </tr>\n",
       "  </thead>\n",
       "  <tbody>\n",
       "    <tr>\n",
       "      <th>0</th>\n",
       "      <td>20130208</td>\n",
       "      <td>67.7142</td>\n",
       "      <td>68.4014</td>\n",
       "      <td>158168416</td>\n",
       "    </tr>\n",
       "    <tr>\n",
       "      <th>1</th>\n",
       "      <td>20130211</td>\n",
       "      <td>68.0714</td>\n",
       "      <td>69.2771</td>\n",
       "      <td>129029425</td>\n",
       "    </tr>\n",
       "    <tr>\n",
       "      <th>2</th>\n",
       "      <td>20130212</td>\n",
       "      <td>68.5014</td>\n",
       "      <td>68.9114</td>\n",
       "      <td>151829363</td>\n",
       "    </tr>\n",
       "    <tr>\n",
       "      <th>3</th>\n",
       "      <td>20130213</td>\n",
       "      <td>66.7442</td>\n",
       "      <td>67.6628</td>\n",
       "      <td>118721995</td>\n",
       "    </tr>\n",
       "    <tr>\n",
       "      <th>4</th>\n",
       "      <td>20130214</td>\n",
       "      <td>66.3599</td>\n",
       "      <td>67.3771</td>\n",
       "      <td>88809154</td>\n",
       "    </tr>\n",
       "  </tbody>\n",
       "</table>\n",
       "</div>"
      ],
      "text/plain": [
       "       date     open     high     volume\n",
       "0  20130208  67.7142  68.4014  158168416\n",
       "1  20130211  68.0714  69.2771  129029425\n",
       "2  20130212  68.5014  68.9114  151829363\n",
       "3  20130213  66.7442  67.6628  118721995\n",
       "4  20130214  66.3599  67.3771   88809154"
      ]
     },
     "execution_count": 70,
     "metadata": {},
     "output_type": "execute_result"
    }
   ],
   "source": [
    "X.head()"
   ]
  },
  {
   "cell_type": "code",
   "execution_count": 71,
   "id": "5bf99585",
   "metadata": {},
   "outputs": [],
   "source": [
    "y = dataset['close']"
   ]
  },
  {
   "cell_type": "code",
   "execution_count": 72,
   "id": "38de2f7e",
   "metadata": {},
   "outputs": [
    {
     "data": {
      "text/plain": [
       "0    67.8542\n",
       "1    68.5614\n",
       "2    66.8428\n",
       "3    66.7156\n",
       "4    66.6556\n",
       "Name: close, dtype: float64"
      ]
     },
     "execution_count": 72,
     "metadata": {},
     "output_type": "execute_result"
    }
   ],
   "source": [
    "y.head()"
   ]
  },
  {
   "cell_type": "code",
   "execution_count": 27,
   "id": "14cfdd21",
   "metadata": {},
   "outputs": [],
   "source": [
    "#train and train split\n",
    "from sklearn.model_selection import train_test_split\n",
    "X_train, X_test, y_train, y_test = train_test_split(X,y, test_size = 0.3, random_state = 42)"
   ]
  },
  {
   "cell_type": "code",
   "execution_count": 28,
   "id": "4c8ccf2f",
   "metadata": {},
   "outputs": [],
   "source": [
    "from sklearn.linear_model import LinearRegression\n",
    "lin_reg = LinearRegression()"
   ]
  },
  {
   "cell_type": "code",
   "execution_count": 29,
   "id": "a79f89ac",
   "metadata": {},
   "outputs": [
    {
     "data": {
      "text/plain": [
       "LinearRegression()"
      ]
     },
     "execution_count": 29,
     "metadata": {},
     "output_type": "execute_result"
    }
   ],
   "source": [
    "lin_reg.fit(X_train, y_train)\n"
   ]
  },
  {
   "cell_type": "code",
   "execution_count": 30,
   "id": "7b545855",
   "metadata": {
    "scrolled": true
   },
   "outputs": [
    {
     "data": {
      "text/plain": [
       "array([ 64.31375913, 138.9174899 ,  61.63661634, 108.56818747,\n",
       "       128.13609356,  60.04184496, 114.77212012, 175.99049611,\n",
       "       101.64379602, 118.63179179,  64.95835596, 109.93953631,\n",
       "        93.62870242, 128.1385243 , 114.36245958, 111.61976106,\n",
       "       100.99850996,  94.03578533,  94.51709178, 110.19639099,\n",
       "       116.17818427, 132.24364753, 114.15273548,  97.86946567,\n",
       "       159.53065778, 127.53433674,  76.26457239,  62.87462885,\n",
       "       124.41545817,  84.29332582,  97.35442195, 109.77276043,\n",
       "       121.08479677,  96.05107224, 142.98187293,  95.20003278,\n",
       "       113.62643875, 131.36359484,  93.25719319, 122.6399526 ,\n",
       "       126.0836669 ,  74.57236585, 106.706129  ,  75.10715906,\n",
       "       143.45701672,  63.78908959, 101.62340585, 108.64918287,\n",
       "        79.00226283,  75.27111881, 171.85812173, 132.05080975,\n",
       "        56.9435364 , 119.32147151, 126.3964209 , 164.60337597,\n",
       "       172.35439607,  93.84965646, 143.85009345,  96.3764487 ,\n",
       "        61.52520803,  80.68137732,  97.18076636, 115.815615  ,\n",
       "       112.58871489, 101.81091742,  96.42986104, 161.64351162,\n",
       "        63.95504801, 109.95056785,  74.00112454, 130.29693299,\n",
       "       130.45217194,  96.25285656,  56.67928749,  71.66811585,\n",
       "        95.87458416,  94.32143677,  74.80662774,  77.33983969,\n",
       "       150.65210496, 100.16288253,  97.53310952, 121.75061397,\n",
       "       111.23066092,  78.42028606,  98.70715408, 173.76224175,\n",
       "       126.39523091,  99.64164563, 111.90535866,  91.57715921,\n",
       "       118.60143192, 156.18984324, 115.87214955, 101.44632434,\n",
       "        99.61061358, 107.78742017, 154.87089742, 110.4463799 ,\n",
       "        60.50452642, 117.36367481,  75.60551188,  65.22091192,\n",
       "        65.93642598, 100.21599843, 178.0153076 ,  97.02279075,\n",
       "        69.06742725,  61.99816974,  75.44067597,  99.08433938,\n",
       "        94.68928535,  66.34647143,  80.0921106 ,  66.72298289,\n",
       "        77.73182825, 108.76971002, 176.23155946,  80.02939967,\n",
       "        76.65852889, 142.20094326, 116.33736196,  68.51885927,\n",
       "       128.5623715 , 112.86014585, 117.12568997,  62.65587447,\n",
       "       120.194045  ,  60.20886695,  74.10321309, 171.27578718,\n",
       "       173.22897836, 118.57481474,  61.38471956, 144.92627983,\n",
       "       121.53113987, 115.69468467, 159.69477165,  80.89510197,\n",
       "       131.13229289, 159.06447936, 152.98568408, 145.74789906,\n",
       "       150.01571961, 125.11198271, 111.20473395,  97.890717  ,\n",
       "       109.73398261, 126.23470089, 112.39985595,  76.50128524,\n",
       "       170.54565374,  60.4788506 , 127.0231301 ,  96.63394592,\n",
       "        62.25184255,  61.5523301 , 109.07375166, 115.64787329,\n",
       "        73.98207816, 138.73830034, 110.15352372, 110.84974787,\n",
       "        75.94178603, 126.76532407,  91.09206238,  95.16159728,\n",
       "        94.91771191,  76.38547538, 149.15735389, 138.52727658,\n",
       "       145.11854103, 128.72923279, 107.48489079, 173.24115162,\n",
       "        97.45516438, 103.93078253, 153.70645338, 115.75031855,\n",
       "        95.0009351 ,  70.11878713,  76.89593256, 116.57170359,\n",
       "       129.72622443, 159.43768816, 112.6214609 , 113.55669864,\n",
       "       105.06249993, 129.55644732, 152.83477432, 135.75431143,\n",
       "       108.34668075,  84.36808198,  96.94435494, 128.59880877,\n",
       "       102.03420451,  64.17501548,  70.297035  , 131.96427327,\n",
       "       152.99581968, 109.00629503,  90.25125088,  91.83180714,\n",
       "        71.49996027, 154.90672747, 113.25197094, 116.99326234,\n",
       "        99.60347906,  89.92362983,  77.14451597,  95.24576646,\n",
       "       110.60683625, 129.81402798, 108.32823464,  71.72635402,\n",
       "        90.30463799, 153.43777305, 174.69525327,  94.94267696,\n",
       "       101.35616585,  97.51670321, 165.88429013,  69.21786964,\n",
       "        70.54977402, 128.75922083, 162.898817  , 152.79262831,\n",
       "       103.86041909, 153.37720609, 117.98052401,  84.12963542,\n",
       "        63.92887401, 108.43902005,  95.87350496, 127.31656202,\n",
       "       110.89679886,  71.06570617, 105.73806644,  56.71455133,\n",
       "        74.75093719, 156.404887  , 126.41033059,  69.74831467,\n",
       "       107.5823763 , 101.39651057,  81.3819731 , 104.10501061,\n",
       "        64.5421689 ,  68.73561455,  95.44412467, 123.11983701,\n",
       "        70.27808167, 130.09415765, 111.91838495,  73.93408688,\n",
       "        75.45168401, 125.97691898, 113.3930352 , 109.78083738,\n",
       "       104.56985047, 157.12833235,  73.84648035, 162.1659184 ,\n",
       "       129.37230055, 143.40758503, 131.3722528 , 130.14692659,\n",
       "       173.28658149, 113.41378464,  74.45591222, 109.91488401,\n",
       "       109.69457109, 112.45882586,  96.67735816,  95.69669682,\n",
       "        61.87710486, 114.83636939,  91.6522665 , 117.51771311,\n",
       "       124.86834222, 115.48943983, 116.43089294, 168.34392769,\n",
       "       178.50954519,  75.34546661,  64.86239104, 126.98175317,\n",
       "       103.04997879, 106.49277258, 118.66077079, 110.45186213,\n",
       "       143.28015354, 107.56695836,  91.80911724,  84.49625508,\n",
       "       108.0314427 , 118.70455922, 146.07799315,  63.11715199,\n",
       "        69.91603202, 104.94028718, 125.53982844, 121.62766991,\n",
       "       111.47670541,  75.6417961 , 128.069537  , 128.34792908,\n",
       "       174.16884525, 125.54812159,  70.76048091,  74.5473293 ,\n",
       "       138.77743649,  69.84882023,  92.24807044, 113.88725944,\n",
       "       116.85056844,  70.32762759, 113.81848471, 117.43489443,\n",
       "        79.43521024, 111.80562489,  76.44290179,  86.57836985,\n",
       "        91.87656169, 113.71606964, 153.58916921, 119.40162896,\n",
       "       156.39919858,  96.18564936, 111.20966069, 115.22178602,\n",
       "       171.84076078, 125.53843322, 147.75282762, 154.41232663,\n",
       "        92.96995904, 127.26325672, 143.95877572,  85.94465181,\n",
       "       149.17401408, 143.26353848, 116.6952901 ,  94.45346117,\n",
       "        60.54289474,  65.91771269,  77.54787762,  97.98703366,\n",
       "        71.47046799,  85.2008902 , 142.86094593,  97.33000847,\n",
       "        95.50683802, 175.36181732, 170.27436998, 108.83596161,\n",
       "        66.55304553,  61.52626061, 114.08343647, 152.22533407,\n",
       "       118.70943543, 115.26824658, 140.57907337, 125.7169187 ,\n",
       "        82.89869929, 143.53569509,  84.70362104, 114.45387823,\n",
       "       103.25873644,  66.23276088,  60.09417373, 116.77155851,\n",
       "       129.47548022, 128.96966244, 106.97913115, 173.65929558,\n",
       "       150.7737802 , 149.27512093])"
      ]
     },
     "execution_count": 30,
     "metadata": {},
     "output_type": "execute_result"
    }
   ],
   "source": [
    "lin_reg.predict(X_test)"
   ]
  },
  {
   "cell_type": "code",
   "execution_count": 31,
   "id": "3db0a05b",
   "metadata": {},
   "outputs": [],
   "source": [
    "from sklearn.metrics import r2_score,mean_squared_error, mean_absolute_error "
   ]
  },
  {
   "cell_type": "code",
   "execution_count": 32,
   "id": "31c56475",
   "metadata": {},
   "outputs": [
    {
     "name": "stdout",
     "output_type": "stream",
     "text": [
      "0.9992523541827406\n",
      "0.6872930563022893\n",
      "0.5816342381984764\n"
     ]
    }
   ],
   "source": [
    "y_pred = lin_reg.predict(X_test)\n",
    "print(r2_score(y_pred, y_test))\n",
    "print(mean_squared_error(y_pred, y_test))\n",
    "print(mean_absolute_error(y_pred, y_test))"
   ]
  },
  {
   "cell_type": "code",
   "execution_count": 73,
   "id": "ac5666f8",
   "metadata": {},
   "outputs": [
    {
     "data": {
      "text/html": [
       "<div>\n",
       "<style scoped>\n",
       "    .dataframe tbody tr th:only-of-type {\n",
       "        vertical-align: middle;\n",
       "    }\n",
       "\n",
       "    .dataframe tbody tr th {\n",
       "        vertical-align: top;\n",
       "    }\n",
       "\n",
       "    .dataframe thead th {\n",
       "        text-align: right;\n",
       "    }\n",
       "</style>\n",
       "<table border=\"1\" class=\"dataframe\">\n",
       "  <thead>\n",
       "    <tr style=\"text-align: right;\">\n",
       "      <th></th>\n",
       "      <th>open</th>\n",
       "      <th>high</th>\n",
       "      <th>low</th>\n",
       "      <th>close</th>\n",
       "      <th>volume</th>\n",
       "    </tr>\n",
       "  </thead>\n",
       "  <tbody>\n",
       "    <tr>\n",
       "      <th>open</th>\n",
       "      <td>1.000000</td>\n",
       "      <td>0.999584</td>\n",
       "      <td>0.999515</td>\n",
       "      <td>0.999118</td>\n",
       "      <td>-0.617862</td>\n",
       "    </tr>\n",
       "    <tr>\n",
       "      <th>high</th>\n",
       "      <td>0.999584</td>\n",
       "      <td>1.000000</td>\n",
       "      <td>0.999382</td>\n",
       "      <td>0.999584</td>\n",
       "      <td>-0.612622</td>\n",
       "    </tr>\n",
       "    <tr>\n",
       "      <th>low</th>\n",
       "      <td>0.999515</td>\n",
       "      <td>0.999382</td>\n",
       "      <td>1.000000</td>\n",
       "      <td>0.999614</td>\n",
       "      <td>-0.625910</td>\n",
       "    </tr>\n",
       "    <tr>\n",
       "      <th>close</th>\n",
       "      <td>0.999118</td>\n",
       "      <td>0.999584</td>\n",
       "      <td>0.999614</td>\n",
       "      <td>1.000000</td>\n",
       "      <td>-0.620290</td>\n",
       "    </tr>\n",
       "    <tr>\n",
       "      <th>volume</th>\n",
       "      <td>-0.617862</td>\n",
       "      <td>-0.612622</td>\n",
       "      <td>-0.625910</td>\n",
       "      <td>-0.620290</td>\n",
       "      <td>1.000000</td>\n",
       "    </tr>\n",
       "  </tbody>\n",
       "</table>\n",
       "</div>"
      ],
      "text/plain": [
       "            open      high       low     close    volume\n",
       "open    1.000000  0.999584  0.999515  0.999118 -0.617862\n",
       "high    0.999584  1.000000  0.999382  0.999584 -0.612622\n",
       "low     0.999515  0.999382  1.000000  0.999614 -0.625910\n",
       "close   0.999118  0.999584  0.999614  1.000000 -0.620290\n",
       "volume -0.617862 -0.612622 -0.625910 -0.620290  1.000000"
      ]
     },
     "execution_count": 73,
     "metadata": {},
     "output_type": "execute_result"
    }
   ],
   "source": [
    "#let's check the collinearity \n",
    "dataset.corr()"
   ]
  },
  {
   "cell_type": "code",
   "execution_count": 74,
   "id": "db4fc1e0",
   "metadata": {},
   "outputs": [],
   "source": [
    "#open and high are collinear and we are going to remove high from itdata\n",
    "dataset = dataset.drop(['high'], axis = 1)"
   ]
  },
  {
   "cell_type": "code",
   "execution_count": 76,
   "id": "b4009aff",
   "metadata": {},
   "outputs": [
    {
     "data": {
      "text/html": [
       "<div>\n",
       "<style scoped>\n",
       "    .dataframe tbody tr th:only-of-type {\n",
       "        vertical-align: middle;\n",
       "    }\n",
       "\n",
       "    .dataframe tbody tr th {\n",
       "        vertical-align: top;\n",
       "    }\n",
       "\n",
       "    .dataframe thead th {\n",
       "        text-align: right;\n",
       "    }\n",
       "</style>\n",
       "<table border=\"1\" class=\"dataframe\">\n",
       "  <thead>\n",
       "    <tr style=\"text-align: right;\">\n",
       "      <th></th>\n",
       "      <th>date</th>\n",
       "      <th>open</th>\n",
       "      <th>low</th>\n",
       "      <th>close</th>\n",
       "      <th>volume</th>\n",
       "      <th>Name</th>\n",
       "    </tr>\n",
       "  </thead>\n",
       "  <tbody>\n",
       "    <tr>\n",
       "      <th>0</th>\n",
       "      <td>2013-02-08</td>\n",
       "      <td>67.7142</td>\n",
       "      <td>66.8928</td>\n",
       "      <td>67.8542</td>\n",
       "      <td>158168416</td>\n",
       "      <td>AAPL</td>\n",
       "    </tr>\n",
       "    <tr>\n",
       "      <th>1</th>\n",
       "      <td>2013-02-11</td>\n",
       "      <td>68.0714</td>\n",
       "      <td>67.6071</td>\n",
       "      <td>68.5614</td>\n",
       "      <td>129029425</td>\n",
       "      <td>AAPL</td>\n",
       "    </tr>\n",
       "    <tr>\n",
       "      <th>2</th>\n",
       "      <td>2013-02-12</td>\n",
       "      <td>68.5014</td>\n",
       "      <td>66.8205</td>\n",
       "      <td>66.8428</td>\n",
       "      <td>151829363</td>\n",
       "      <td>AAPL</td>\n",
       "    </tr>\n",
       "    <tr>\n",
       "      <th>3</th>\n",
       "      <td>2013-02-13</td>\n",
       "      <td>66.7442</td>\n",
       "      <td>66.1742</td>\n",
       "      <td>66.7156</td>\n",
       "      <td>118721995</td>\n",
       "      <td>AAPL</td>\n",
       "    </tr>\n",
       "    <tr>\n",
       "      <th>4</th>\n",
       "      <td>2013-02-14</td>\n",
       "      <td>66.3599</td>\n",
       "      <td>66.2885</td>\n",
       "      <td>66.6556</td>\n",
       "      <td>88809154</td>\n",
       "      <td>AAPL</td>\n",
       "    </tr>\n",
       "  </tbody>\n",
       "</table>\n",
       "</div>"
      ],
      "text/plain": [
       "         date     open      low    close     volume  Name\n",
       "0  2013-02-08  67.7142  66.8928  67.8542  158168416  AAPL\n",
       "1  2013-02-11  68.0714  67.6071  68.5614  129029425  AAPL\n",
       "2  2013-02-12  68.5014  66.8205  66.8428  151829363  AAPL\n",
       "3  2013-02-13  66.7442  66.1742  66.7156  118721995  AAPL\n",
       "4  2013-02-14  66.3599  66.2885  66.6556   88809154  AAPL"
      ]
     },
     "execution_count": 76,
     "metadata": {},
     "output_type": "execute_result"
    }
   ],
   "source": [
    "dataset.head()"
   ]
  },
  {
   "cell_type": "code",
   "execution_count": 77,
   "id": "3e0073d6",
   "metadata": {},
   "outputs": [],
   "source": [
    "X = dataset.iloc[:,0:2]\n",
    "X['volume'] = dataset['volume']"
   ]
  },
  {
   "cell_type": "code",
   "execution_count": 78,
   "id": "4053266b",
   "metadata": {},
   "outputs": [
    {
     "data": {
      "text/html": [
       "<div>\n",
       "<style scoped>\n",
       "    .dataframe tbody tr th:only-of-type {\n",
       "        vertical-align: middle;\n",
       "    }\n",
       "\n",
       "    .dataframe tbody tr th {\n",
       "        vertical-align: top;\n",
       "    }\n",
       "\n",
       "    .dataframe thead th {\n",
       "        text-align: right;\n",
       "    }\n",
       "</style>\n",
       "<table border=\"1\" class=\"dataframe\">\n",
       "  <thead>\n",
       "    <tr style=\"text-align: right;\">\n",
       "      <th></th>\n",
       "      <th>date</th>\n",
       "      <th>open</th>\n",
       "      <th>volume</th>\n",
       "    </tr>\n",
       "  </thead>\n",
       "  <tbody>\n",
       "    <tr>\n",
       "      <th>0</th>\n",
       "      <td>2013-02-08</td>\n",
       "      <td>67.7142</td>\n",
       "      <td>158168416</td>\n",
       "    </tr>\n",
       "    <tr>\n",
       "      <th>1</th>\n",
       "      <td>2013-02-11</td>\n",
       "      <td>68.0714</td>\n",
       "      <td>129029425</td>\n",
       "    </tr>\n",
       "    <tr>\n",
       "      <th>2</th>\n",
       "      <td>2013-02-12</td>\n",
       "      <td>68.5014</td>\n",
       "      <td>151829363</td>\n",
       "    </tr>\n",
       "    <tr>\n",
       "      <th>3</th>\n",
       "      <td>2013-02-13</td>\n",
       "      <td>66.7442</td>\n",
       "      <td>118721995</td>\n",
       "    </tr>\n",
       "    <tr>\n",
       "      <th>4</th>\n",
       "      <td>2013-02-14</td>\n",
       "      <td>66.3599</td>\n",
       "      <td>88809154</td>\n",
       "    </tr>\n",
       "  </tbody>\n",
       "</table>\n",
       "</div>"
      ],
      "text/plain": [
       "         date     open     volume\n",
       "0  2013-02-08  67.7142  158168416\n",
       "1  2013-02-11  68.0714  129029425\n",
       "2  2013-02-12  68.5014  151829363\n",
       "3  2013-02-13  66.7442  118721995\n",
       "4  2013-02-14  66.3599   88809154"
      ]
     },
     "execution_count": 78,
     "metadata": {},
     "output_type": "execute_result"
    }
   ],
   "source": [
    "X.head()"
   ]
  },
  {
   "cell_type": "code",
   "execution_count": 79,
   "id": "5acbe1e0",
   "metadata": {},
   "outputs": [],
   "source": [
    "y = dataset.iloc[:,3:-2]"
   ]
  },
  {
   "cell_type": "code",
   "execution_count": 80,
   "id": "85d2a5d6",
   "metadata": {},
   "outputs": [
    {
     "data": {
      "text/plain": [
       "(1259, 1)"
      ]
     },
     "execution_count": 80,
     "metadata": {},
     "output_type": "execute_result"
    }
   ],
   "source": [
    "y.shape"
   ]
  },
  {
   "cell_type": "code",
   "execution_count": 81,
   "id": "4157f703",
   "metadata": {},
   "outputs": [
    {
     "data": {
      "text/plain": [
       "(1259, 3)"
      ]
     },
     "execution_count": 81,
     "metadata": {},
     "output_type": "execute_result"
    }
   ],
   "source": [
    "y.head()\n",
    "X.shape"
   ]
  },
  {
   "cell_type": "code",
   "execution_count": 82,
   "id": "660d714b",
   "metadata": {},
   "outputs": [],
   "source": [
    "for i in X['date']:\n",
    "    d = i.split(\"-\")\n",
    "    total = int(d[0]+d[1]+d[2])\n",
    "    X = X.replace(i,total)"
   ]
  },
  {
   "cell_type": "code",
   "execution_count": 83,
   "id": "5bab4000",
   "metadata": {},
   "outputs": [
    {
     "data": {
      "text/html": [
       "<div>\n",
       "<style scoped>\n",
       "    .dataframe tbody tr th:only-of-type {\n",
       "        vertical-align: middle;\n",
       "    }\n",
       "\n",
       "    .dataframe tbody tr th {\n",
       "        vertical-align: top;\n",
       "    }\n",
       "\n",
       "    .dataframe thead th {\n",
       "        text-align: right;\n",
       "    }\n",
       "</style>\n",
       "<table border=\"1\" class=\"dataframe\">\n",
       "  <thead>\n",
       "    <tr style=\"text-align: right;\">\n",
       "      <th></th>\n",
       "      <th>date</th>\n",
       "      <th>open</th>\n",
       "      <th>volume</th>\n",
       "    </tr>\n",
       "  </thead>\n",
       "  <tbody>\n",
       "    <tr>\n",
       "      <th>0</th>\n",
       "      <td>20130208</td>\n",
       "      <td>67.7142</td>\n",
       "      <td>158168416</td>\n",
       "    </tr>\n",
       "    <tr>\n",
       "      <th>1</th>\n",
       "      <td>20130211</td>\n",
       "      <td>68.0714</td>\n",
       "      <td>129029425</td>\n",
       "    </tr>\n",
       "    <tr>\n",
       "      <th>2</th>\n",
       "      <td>20130212</td>\n",
       "      <td>68.5014</td>\n",
       "      <td>151829363</td>\n",
       "    </tr>\n",
       "    <tr>\n",
       "      <th>3</th>\n",
       "      <td>20130213</td>\n",
       "      <td>66.7442</td>\n",
       "      <td>118721995</td>\n",
       "    </tr>\n",
       "    <tr>\n",
       "      <th>4</th>\n",
       "      <td>20130214</td>\n",
       "      <td>66.3599</td>\n",
       "      <td>88809154</td>\n",
       "    </tr>\n",
       "  </tbody>\n",
       "</table>\n",
       "</div>"
      ],
      "text/plain": [
       "       date     open     volume\n",
       "0  20130208  67.7142  158168416\n",
       "1  20130211  68.0714  129029425\n",
       "2  20130212  68.5014  151829363\n",
       "3  20130213  66.7442  118721995\n",
       "4  20130214  66.3599   88809154"
      ]
     },
     "execution_count": 83,
     "metadata": {},
     "output_type": "execute_result"
    }
   ],
   "source": [
    "X.head()"
   ]
  },
  {
   "cell_type": "code",
   "execution_count": 84,
   "id": "e22c7e6a",
   "metadata": {},
   "outputs": [],
   "source": [
    "#train and train split\n",
    "from sklearn.model_selection import train_test_split\n",
    "X_train, X_test, y_train, y_test = train_test_split(X,y, test_size = 0.3, random_state = 42)"
   ]
  },
  {
   "cell_type": "code",
   "execution_count": 85,
   "id": "7aa10567",
   "metadata": {},
   "outputs": [],
   "source": [
    "from sklearn.linear_model import LinearRegression\n",
    "lin_reg = LinearRegression()"
   ]
  },
  {
   "cell_type": "code",
   "execution_count": 86,
   "id": "1d19ec4a",
   "metadata": {},
   "outputs": [
    {
     "data": {
      "text/plain": [
       "LinearRegression()"
      ]
     },
     "execution_count": 86,
     "metadata": {},
     "output_type": "execute_result"
    }
   ],
   "source": [
    "lin_reg.fit(X_train,y_train)"
   ]
  },
  {
   "cell_type": "code",
   "execution_count": 87,
   "id": "1f119dce",
   "metadata": {},
   "outputs": [
    {
     "name": "stdout",
     "output_type": "stream",
     "text": [
      "0.9982922864329822\n",
      "1.5694348061139758\n",
      "0.8924833657975104\n"
     ]
    }
   ],
   "source": [
    "y_pred = lin_reg.predict(X_test)\n",
    "\n",
    "print(r2_score(y_pred, y_test))\n",
    "print(mean_squared_error(y_pred, y_test))\n",
    "print(mean_absolute_error(y_pred, y_test))"
   ]
  },
  {
   "cell_type": "code",
   "execution_count": 88,
   "id": "aa52f372",
   "metadata": {},
   "outputs": [
    {
     "data": {
      "text/plain": [
       "<seaborn.axisgrid.PairGrid at 0x202e896e910>"
      ]
     },
     "execution_count": 88,
     "metadata": {},
     "output_type": "execute_result"
    },
    {
     "data": {
      "image/png": "[encoded data removed]",
      "text/plain": [
       "<Figure size 540x540 with 12 Axes>"
      ]
     },
     "metadata": {
      "needs_background": "light"
     },
     "output_type": "display_data"
    }
   ],
   "source": [
    "sns.pairplot(X)"
   ]
  },
  {
   "cell_type": "code",
   "execution_count": 89,
   "id": "326f0c5f",
   "metadata": {},
   "outputs": [],
   "source": [
    "from sklearn.preprocessing import StandardScaler\n",
    "scaler = StandardScaler()"
   ]
  },
  {
   "cell_type": "code",
   "execution_count": 90,
   "id": "67c798c3",
   "metadata": {},
   "outputs": [],
   "source": [
    "X_train = scaler.fit_transform(X_train)\n",
    "X_test = scaler.transform(X_test)"
   ]
  },
  {
   "cell_type": "code",
   "execution_count": 91,
   "id": "2c01207a",
   "metadata": {},
   "outputs": [
    {
     "data": {
      "text/plain": [
       "array([[-0.75343904, -0.41918468, -0.66841247],\n",
       "       [-0.80239235, -0.97980788,  1.38563763],\n",
       "       [-0.73220296,  0.2782435 ,  0.11419345],\n",
       "       ...,\n",
       "       [ 1.31438996,  1.53727114, -1.01796621],\n",
       "       [ 0.61849458, -0.399594  , -0.91794717],\n",
       "       [ 1.30935673,  1.33581366, -1.04003878]])"
      ]
     },
     "execution_count": 91,
     "metadata": {},
     "output_type": "execute_result"
    }
   ],
   "source": [
    "X_train"
   ]
  },
  {
   "cell_type": "code",
   "execution_count": 92,
   "id": "3d290af9",
   "metadata": {},
   "outputs": [
    {
     "data": {
      "text/plain": [
       "LinearRegression()"
      ]
     },
     "execution_count": 92,
     "metadata": {},
     "output_type": "execute_result"
    }
   ],
   "source": [
    "from sklearn.linear_model import LinearRegression\n",
    "lin_reg = LinearRegression()\n",
    "lin_reg.fit(X_train,y_train)"
   ]
  },
  {
   "cell_type": "code",
   "execution_count": 93,
   "id": "a305917c",
   "metadata": {},
   "outputs": [
    {
     "name": "stdout",
     "output_type": "stream",
     "text": [
      "0.9982922864339507\n",
      "1.5694348049936564\n",
      "0.8924833659890934\n"
     ]
    }
   ],
   "source": [
    "y_pred = lin_reg.predict(X_test)\n",
    "print(r2_score(y_pred, y_test))\n",
    "print(mean_squared_error(y_pred, y_test))\n",
    "print(mean_absolute_error(y_pred, y_test))"
   ]
  },
  {
   "cell_type": "code",
   "execution_count": 94,
   "id": "7cb190f6",
   "metadata": {},
   "outputs": [
    {
     "data": {
      "text/plain": [
       "<matplotlib.collections.PathCollection at 0x202eb5b2ee0>"
      ]
     },
     "execution_count": 94,
     "metadata": {},
     "output_type": "execute_result"
    },
    {
     "data": {
      "image/png": "[encoded data removed]",
      "text/plain": [
       "<Figure size 432x288 with 1 Axes>"
      ]
     },
     "metadata": {
      "needs_background": "light"
     },
     "output_type": "display_data"
    }
   ],
   "source": [
    "plt.scatter(y_test,y_pred)"
   ]
  },
  {
   "cell_type": "code",
   "execution_count": 96,
   "id": "a21e3c16",
   "metadata": {},
   "outputs": [
    {
     "data": {
      "text/plain": [
       "<matplotlib.collections.PathCollection at 0x202eba0ee50>"
      ]
     },
     "execution_count": 96,
     "metadata": {},
     "output_type": "execute_result"
    },
    {
     "data": {
      "image/png": "[encoded data removed]",
      "text/plain": [
       "<Figure size 432x288 with 1 Axes>"
      ]
     },
     "metadata": {
      "needs_background": "light"
     },
     "output_type": "display_data"
    }
   ],
   "source": [
    "residuals = y_test-y_pred\n",
    "plt.scatter(y_pred,residuals)"
   ]
  },
  {
   "cell_type": "code",
   "execution_count": 97,
   "id": "ec1bea86",
   "metadata": {},
   "outputs": [
    {
     "data": {
      "text/plain": [
       "<seaborn.axisgrid.FacetGrid at 0x202eba2f550>"
      ]
     },
     "execution_count": 97,
     "metadata": {},
     "output_type": "execute_result"
    },
    {
     "data": {
      "image/png": "[encoded data removed]",
      "text/plain": [
       "<Figure size 421.75x360 with 1 Axes>"
      ]
     },
     "metadata": {
      "needs_background": "light"
     },
     "output_type": "display_data"
    }
   ],
   "source": [
    "sns.displot(residuals, kind='kde')"
   ]
  },
  {
   "cell_type": "code",
   "execution_count": null,
   "id": "9e0445e2",
   "metadata": {},
   "outputs": [],
   "source": []
  },
  {
   "cell_type": "code",
   "execution_count": null,
   "id": "5727af4c",
   "metadata": {},
   "outputs": [],
   "source": []
  },
  {
   "cell_type": "code",
   "execution_count": null,
   "id": "a63c2263",
   "metadata": {},
   "outputs": [],
   "source": []
  },
  {
   "cell_type": "code",
   "execution_count": 95,
   "id": "15caf43d",
   "metadata": {},
   "outputs": [],
   "source": [
    "import pickle\n",
    "pickle.dump(scaler,open('scaling.pkl','wb'))"
   ]
  },
  {
   "cell_type": "code",
   "execution_count": 98,
   "id": "5d8eb84b",
   "metadata": {},
   "outputs": [],
   "source": [
    "pickle.dump(lin_reg,open('regmodel.pkl','wb'))\n",
    "pickle_model = pickle.load(open('regmodel.pkl','rb'))"
   ]
  },
  {
   "cell_type": "code",
   "execution_count": null,
   "id": "40904fc7",
   "metadata": {},
   "outputs": [],
   "source": []
  }
 ],
 "metadata": {
  "kernelspec": {
   "display_name": "Python 3 (ipykernel)",
   "language": "python",
   "name": "python3"
  },
  "language_info": {
   "codemirror_mode": {
    "name": "ipython",
    "version": 3
   },
   "file_extension": ".py",
   "mimetype": "text/x-python",
   "name": "python",
   "nbconvert_exporter": "python",
   "pygments_lexer": "ipython3",
   "version": "3.9.13"
  }
 },
 "nbformat": 4,
 "nbformat_minor": 5
}
